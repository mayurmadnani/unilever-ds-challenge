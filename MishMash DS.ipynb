{
 "cells": [
  {
   "cell_type": "markdown",
   "metadata": {},
   "source": [
    "# Libraries Import and data files"
   ]
  },
  {
   "cell_type": "code",
   "execution_count": 1,
   "metadata": {},
   "outputs": [],
   "source": [
    "import pandas as pd\n",
    "import nltk\n",
    "from nltk.corpus import stopwords\n",
    "from nltk.stem.porter import *\n",
    "import re\n",
    "import pickle\n",
    "import os\n",
    "from similarity.cosine import Cosine\n"
   ]
  },
  {
   "cell_type": "code",
   "execution_count": 2,
   "metadata": {},
   "outputs": [],
   "source": [
    "data_sample = 'sampledata.xlsx'\n",
    "data_train = 'Train-Data.xlsx'"
   ]
  },
  {
   "cell_type": "markdown",
   "metadata": {},
   "source": [
    "Preparing and Processing the data\n"
   ]
  },
  {
   "cell_type": "code",
   "execution_count": 3,
   "metadata": {},
   "outputs": [
    {
     "data": {
      "text/html": [
       "<div>\n",
       "<style scoped>\n",
       "    .dataframe tbody tr th:only-of-type {\n",
       "        vertical-align: middle;\n",
       "    }\n",
       "\n",
       "    .dataframe tbody tr th {\n",
       "        vertical-align: top;\n",
       "    }\n",
       "\n",
       "    .dataframe thead th {\n",
       "        text-align: right;\n",
       "    }\n",
       "</style>\n",
       "<table border=\"1\" class=\"dataframe\">\n",
       "  <thead>\n",
       "    <tr style=\"text-align: right;\">\n",
       "      <th></th>\n",
       "      <th>Item Code</th>\n",
       "      <th>Description</th>\n",
       "      <th>Brand Name</th>\n",
       "      <th>Grammage</th>\n",
       "      <th>Sample MRP</th>\n",
       "      <th>discount</th>\n",
       "      <th>Selling Price</th>\n",
       "      <th>Barcode</th>\n",
       "    </tr>\n",
       "  </thead>\n",
       "  <tbody>\n",
       "    <tr>\n",
       "      <th>0</th>\n",
       "      <td>2240</td>\n",
       "      <td>ADIDAS DYNAMIC PULSE SH GEL 250ML</td>\n",
       "      <td>Adidas</td>\n",
       "      <td>250 ml</td>\n",
       "      <td>87</td>\n",
       "      <td>0.1</td>\n",
       "      <td>78.3</td>\n",
       "      <td>480822663035</td>\n",
       "    </tr>\n",
       "    <tr>\n",
       "      <th>1</th>\n",
       "      <td>4890</td>\n",
       "      <td>Adidas Dynamic Pulse Shower Gel 250 Ml</td>\n",
       "      <td>Adidas</td>\n",
       "      <td>250 ml</td>\n",
       "      <td>30</td>\n",
       "      <td>0.1</td>\n",
       "      <td>27.0</td>\n",
       "      <td>553885072637</td>\n",
       "    </tr>\n",
       "    <tr>\n",
       "      <th>2</th>\n",
       "      <td>80330</td>\n",
       "      <td>ADIDAS EXTREME POWER AFTER SHAVE LOTION 100 ML</td>\n",
       "      <td>Adidas</td>\n",
       "      <td>100 ml</td>\n",
       "      <td>50</td>\n",
       "      <td>0.2</td>\n",
       "      <td>40.0</td>\n",
       "      <td>756588357262</td>\n",
       "    </tr>\n",
       "    <tr>\n",
       "      <th>3</th>\n",
       "      <td>3527</td>\n",
       "      <td>Adidas Extreme Power Deodorant 150 Ml</td>\n",
       "      <td>Adidas</td>\n",
       "      <td>150 ml</td>\n",
       "      <td>35</td>\n",
       "      <td>0.1</td>\n",
       "      <td>31.5</td>\n",
       "      <td>920738510151</td>\n",
       "    </tr>\n",
       "    <tr>\n",
       "      <th>4</th>\n",
       "      <td>90775</td>\n",
       "      <td>Jovees Gold 24 Carat Massage Gel 100 Gm</td>\n",
       "      <td>Jovees</td>\n",
       "      <td>100 gm</td>\n",
       "      <td>245</td>\n",
       "      <td>0.3</td>\n",
       "      <td>171.5</td>\n",
       "      <td>191041283701</td>\n",
       "    </tr>\n",
       "  </tbody>\n",
       "</table>\n",
       "</div>"
      ],
      "text/plain": [
       "   Item Code                                     Description Brand Name  \\\n",
       "0       2240               ADIDAS DYNAMIC PULSE SH GEL 250ML     Adidas   \n",
       "1       4890          Adidas Dynamic Pulse Shower Gel 250 Ml     Adidas   \n",
       "2      80330  ADIDAS EXTREME POWER AFTER SHAVE LOTION 100 ML     Adidas   \n",
       "3       3527           Adidas Extreme Power Deodorant 150 Ml     Adidas   \n",
       "4      90775         Jovees Gold 24 Carat Massage Gel 100 Gm     Jovees   \n",
       "\n",
       "  Grammage  Sample MRP  discount  Selling Price       Barcode  \n",
       "0   250 ml          87       0.1           78.3  480822663035  \n",
       "1   250 ml          30       0.1           27.0  553885072637  \n",
       "2   100 ml          50       0.2           40.0  756588357262  \n",
       "3   150 ml          35       0.1           31.5  920738510151  \n",
       "4   100 gm         245       0.3          171.5  191041283701  "
      ]
     },
     "execution_count": 3,
     "metadata": {},
     "output_type": "execute_result"
    }
   ],
   "source": [
    "df_sample = pd.read_excel(data_sample)\n",
    "df_sample.head()"
   ]
  },
  {
   "cell_type": "code",
   "execution_count": 4,
   "metadata": {},
   "outputs": [
    {
     "name": "stdout",
     "output_type": "stream",
     "text": [
      "8000\n"
     ]
    },
    {
     "data": {
      "text/html": [
       "<div>\n",
       "<style scoped>\n",
       "    .dataframe tbody tr th:only-of-type {\n",
       "        vertical-align: middle;\n",
       "    }\n",
       "\n",
       "    .dataframe tbody tr th {\n",
       "        vertical-align: top;\n",
       "    }\n",
       "\n",
       "    .dataframe thead th {\n",
       "        text-align: right;\n",
       "    }\n",
       "</style>\n",
       "<table border=\"1\" class=\"dataframe\">\n",
       "  <thead>\n",
       "    <tr style=\"text-align: right;\">\n",
       "      <th></th>\n",
       "      <th>Item Code</th>\n",
       "      <th>Product Description</th>\n",
       "      <th>Brand Name</th>\n",
       "      <th>Grammage</th>\n",
       "      <th>MRP</th>\n",
       "      <th>Discount</th>\n",
       "      <th>Selling Price</th>\n",
       "      <th>Special Offer</th>\n",
       "      <th>Final Price</th>\n",
       "      <th>Category</th>\n",
       "    </tr>\n",
       "  </thead>\n",
       "  <tbody>\n",
       "    <tr>\n",
       "      <th>0</th>\n",
       "      <td>100197</td>\n",
       "      <td>KKRWG 200 GM PLPCH SUPER DETERGENT POWDER POWE...</td>\n",
       "      <td>KKRWG</td>\n",
       "      <td>200 GM</td>\n",
       "      <td>439</td>\n",
       "      <td>0.48</td>\n",
       "      <td>228</td>\n",
       "      <td>0.47</td>\n",
       "      <td>121</td>\n",
       "      <td>D</td>\n",
       "    </tr>\n",
       "    <tr>\n",
       "      <th>1</th>\n",
       "      <td>100420</td>\n",
       "      <td>EEOTR 98 GM  PLTUB OPTI BLACK DAZZLING SHINE</td>\n",
       "      <td>EEOTR</td>\n",
       "      <td>98 GM</td>\n",
       "      <td>58</td>\n",
       "      <td>0.06</td>\n",
       "      <td>55</td>\n",
       "      <td>0.02</td>\n",
       "      <td>53</td>\n",
       "      <td>A</td>\n",
       "    </tr>\n",
       "    <tr>\n",
       "      <th>2</th>\n",
       "      <td>100462</td>\n",
       "      <td>XTHVF 200 GM PLPCH WITH OPTICAL BRIGHTNER</td>\n",
       "      <td>XTHVF</td>\n",
       "      <td>200 GM</td>\n",
       "      <td>387</td>\n",
       "      <td>0.50</td>\n",
       "      <td>194</td>\n",
       "      <td>0.50</td>\n",
       "      <td>97</td>\n",
       "      <td>D</td>\n",
       "    </tr>\n",
       "    <tr>\n",
       "      <th>3</th>\n",
       "      <td>100473</td>\n",
       "      <td>ATYIX Sandalum Agarbatti</td>\n",
       "      <td>ATYIX</td>\n",
       "      <td>50 gm\\n</td>\n",
       "      <td>889</td>\n",
       "      <td>0.31</td>\n",
       "      <td>613</td>\n",
       "      <td>0.08</td>\n",
       "      <td>564</td>\n",
       "      <td>G</td>\n",
       "    </tr>\n",
       "    <tr>\n",
       "      <th>4</th>\n",
       "      <td>100527</td>\n",
       "      <td>FBIMG 500M PBT COCOABUTTER LOTN COCOABUTTER &amp; ...</td>\n",
       "      <td>FBIMG</td>\n",
       "      <td>NaN</td>\n",
       "      <td>749</td>\n",
       "      <td>0.01</td>\n",
       "      <td>742</td>\n",
       "      <td>0.04</td>\n",
       "      <td>712</td>\n",
       "      <td>B</td>\n",
       "    </tr>\n",
       "  </tbody>\n",
       "</table>\n",
       "</div>"
      ],
      "text/plain": [
       "   Item Code                                Product Description Brand Name  \\\n",
       "0     100197  KKRWG 200 GM PLPCH SUPER DETERGENT POWDER POWE...      KKRWG   \n",
       "1     100420       EEOTR 98 GM  PLTUB OPTI BLACK DAZZLING SHINE      EEOTR   \n",
       "2     100462          XTHVF 200 GM PLPCH WITH OPTICAL BRIGHTNER      XTHVF   \n",
       "3     100473                           ATYIX Sandalum Agarbatti      ATYIX   \n",
       "4     100527  FBIMG 500M PBT COCOABUTTER LOTN COCOABUTTER & ...      FBIMG   \n",
       "\n",
       "  Grammage  MRP  Discount  Selling Price  Special Offer  Final Price Category  \n",
       "0   200 GM  439      0.48            228           0.47          121        D  \n",
       "1    98 GM   58      0.06             55           0.02           53        A  \n",
       "2   200 GM  387      0.50            194           0.50           97        D  \n",
       "3  50 gm\\n  889      0.31            613           0.08          564        G  \n",
       "4      NaN  749      0.01            742           0.04          712        B  "
      ]
     },
     "execution_count": 4,
     "metadata": {},
     "output_type": "execute_result"
    }
   ],
   "source": [
    "df_train = pd.read_excel(data_train)\n",
    "print(len(df_train))\n",
    "df_train.head()"
   ]
  },
  {
   "cell_type": "markdown",
   "metadata": {},
   "source": [
    "## Data cleaning"
   ]
  },
  {
   "cell_type": "code",
   "execution_count": 5,
   "metadata": {},
   "outputs": [
    {
     "data": {
      "text/html": [
       "<div>\n",
       "<style scoped>\n",
       "    .dataframe tbody tr th:only-of-type {\n",
       "        vertical-align: middle;\n",
       "    }\n",
       "\n",
       "    .dataframe tbody tr th {\n",
       "        vertical-align: top;\n",
       "    }\n",
       "\n",
       "    .dataframe thead th {\n",
       "        text-align: right;\n",
       "    }\n",
       "</style>\n",
       "<table border=\"1\" class=\"dataframe\">\n",
       "  <thead>\n",
       "    <tr style=\"text-align: right;\">\n",
       "      <th></th>\n",
       "      <th>Product Description</th>\n",
       "      <th>Brand Name</th>\n",
       "      <th>Grammage</th>\n",
       "      <th>Discount</th>\n",
       "      <th>Special Offer</th>\n",
       "      <th>Final Price</th>\n",
       "    </tr>\n",
       "  </thead>\n",
       "  <tbody>\n",
       "    <tr>\n",
       "      <th>0</th>\n",
       "      <td>KKRWG 200 GM PLPCH SUPER DETERGENT POWDER POWE...</td>\n",
       "      <td>KKRWG</td>\n",
       "      <td>200 GM</td>\n",
       "      <td>0.48</td>\n",
       "      <td>0.47</td>\n",
       "      <td>121</td>\n",
       "    </tr>\n",
       "    <tr>\n",
       "      <th>1</th>\n",
       "      <td>EEOTR 98 GM  PLTUB OPTI BLACK DAZZLING SHINE</td>\n",
       "      <td>EEOTR</td>\n",
       "      <td>98 GM</td>\n",
       "      <td>0.06</td>\n",
       "      <td>0.02</td>\n",
       "      <td>53</td>\n",
       "    </tr>\n",
       "    <tr>\n",
       "      <th>2</th>\n",
       "      <td>XTHVF 200 GM PLPCH WITH OPTICAL BRIGHTNER</td>\n",
       "      <td>XTHVF</td>\n",
       "      <td>200 GM</td>\n",
       "      <td>0.50</td>\n",
       "      <td>0.50</td>\n",
       "      <td>97</td>\n",
       "    </tr>\n",
       "    <tr>\n",
       "      <th>3</th>\n",
       "      <td>ATYIX Sandalum Agarbatti</td>\n",
       "      <td>ATYIX</td>\n",
       "      <td>50 gm\\n</td>\n",
       "      <td>0.31</td>\n",
       "      <td>0.08</td>\n",
       "      <td>564</td>\n",
       "    </tr>\n",
       "    <tr>\n",
       "      <th>4</th>\n",
       "      <td>FBIMG 500M PBT COCOABUTTER LOTN COCOABUTTER &amp; ...</td>\n",
       "      <td>FBIMG</td>\n",
       "      <td>NaN</td>\n",
       "      <td>0.01</td>\n",
       "      <td>0.04</td>\n",
       "      <td>712</td>\n",
       "    </tr>\n",
       "  </tbody>\n",
       "</table>\n",
       "</div>"
      ],
      "text/plain": [
       "                                 Product Description Brand Name Grammage  \\\n",
       "0  KKRWG 200 GM PLPCH SUPER DETERGENT POWDER POWE...      KKRWG   200 GM   \n",
       "1       EEOTR 98 GM  PLTUB OPTI BLACK DAZZLING SHINE      EEOTR    98 GM   \n",
       "2          XTHVF 200 GM PLPCH WITH OPTICAL BRIGHTNER      XTHVF   200 GM   \n",
       "3                           ATYIX Sandalum Agarbatti      ATYIX  50 gm\\n   \n",
       "4  FBIMG 500M PBT COCOABUTTER LOTN COCOABUTTER & ...      FBIMG      NaN   \n",
       "\n",
       "   Discount  Special Offer  Final Price  \n",
       "0      0.48           0.47          121  \n",
       "1      0.06           0.02           53  \n",
       "2      0.50           0.50           97  \n",
       "3      0.31           0.08          564  \n",
       "4      0.01           0.04          712  "
      ]
     },
     "execution_count": 5,
     "metadata": {},
     "output_type": "execute_result"
    }
   ],
   "source": [
    "df = pd.DataFrame(df_train, columns=['Product Description', 'Brand Name', 'Grammage', 'Discount', 'Special Offer', 'Final Price'])\n",
    "df.head()"
   ]
  },
  {
   "cell_type": "markdown",
   "metadata": {},
   "source": [
    "Removing stopwords & stemming"
   ]
  },
  {
   "cell_type": "code",
   "execution_count": 6,
   "metadata": {},
   "outputs": [],
   "source": [
    "def description_to_words(descr):\n",
    "    nltk.download(\"stopwords\", quiet=True)\n",
    "    stemmer = PorterStemmer()\n",
    "    \n",
    "    text = descr\n",
    "    text = re.sub(r\"[^a-zA-Z0-9]\", \" \", text.lower()) # Convert to lower case\n",
    "    words = text.split() # Split string into words\n",
    "    words = [w for w in words if w not in stopwords.words(\"english\")] # Remove stopwords\n",
    "    words = [PorterStemmer().stem(w) for w in words] # stem\n",
    "    \n",
    "    \n",
    "    return ' '.join(words)"
   ]
  },
  {
   "cell_type": "code",
   "execution_count": 7,
   "metadata": {},
   "outputs": [
    {
     "name": "stdout",
     "output_type": "stream",
     "text": [
      "kkrwg 200 gm plpch super deterg powder power white\n"
     ]
    }
   ],
   "source": [
    "print(description_to_words(df['Product Description'][0]))"
   ]
  },
  {
   "cell_type": "markdown",
   "metadata": {},
   "source": [
    "Create cache after processing training data"
   ]
  },
  {
   "cell_type": "code",
   "execution_count": 8,
   "metadata": {},
   "outputs": [],
   "source": [
    "def preprocess_data(cache_dir=\".\", cache_file=\"preprocessed_data.pkl\"):\n",
    "    \"\"\"Convert each review to words; read from cache if available.\"\"\"\n",
    "\n",
    "    # If cache_file is not None, try to read from it first\n",
    "    cache_data = None\n",
    "    if cache_file is not None:\n",
    "        try:\n",
    "            with open(os.path.join(cache_dir, cache_file), \"rb\") as f:\n",
    "                cache_data = pickle.load(f)\n",
    "            print(\"Read preprocessed data from cache file:\", cache_file)\n",
    "        except:\n",
    "            pass  # unable to read from cache, but that's okay\n",
    "    \n",
    "    # If cache is missing, then do the heavy lifting\n",
    "    if cache_data is None:\n",
    "        # Preprocess training and test data to obtain words for each description\n",
    "        words_train = df['Product Description'].apply(description_to_words)\n",
    "#         words_train = [review_to_words(review) for review in data_train]\n",
    "        \n",
    "        # Write to cache file for future runs\n",
    "        if cache_file is not None:\n",
    "            cache_data = words_train\n",
    "            with open(os.path.join(cache_dir, cache_file), \"wb\") as f:\n",
    "                pickle.dump(cache_data, f)\n",
    "            print(\"Wrote preprocessed data to cache file:\", cache_file)\n",
    "    else:\n",
    "        # Unpack data loaded from cache file\n",
    "        words_train = cache_data\n",
    "    \n",
    "    return words_train"
   ]
  },
  {
   "cell_type": "code",
   "execution_count": 9,
   "metadata": {},
   "outputs": [
    {
     "name": "stdout",
     "output_type": "stream",
     "text": [
      "Read preprocessed data from cache file: preprocessed_data.pkl\n"
     ]
    }
   ],
   "source": [
    "# Preprocess data\n",
    "words_train = preprocess_data()"
   ]
  },
  {
   "cell_type": "code",
   "execution_count": 10,
   "metadata": {},
   "outputs": [
    {
     "data": {
      "text/plain": [
       "8000"
      ]
     },
     "execution_count": 10,
     "metadata": {},
     "output_type": "execute_result"
    }
   ],
   "source": [
    "len(words_train)"
   ]
  },
  {
   "cell_type": "code",
   "execution_count": 11,
   "metadata": {},
   "outputs": [
    {
     "data": {
      "text/plain": [
       "0       kkrwg 200 gm plpch super deterg powder power w...\n",
       "1                eeotr 98 gm pltub opti black dazzl shine\n",
       "2                      xthvf 200 gm plpch optic brightner\n",
       "3                                atyix sandalum agarbatti\n",
       "4        fbimg 500m pbt cocoabutt lotn cocoabutt aloevera\n",
       "                              ...                        \n",
       "7995        keedw 30 ml cdbox anti age serum advanc vit c\n",
       "7996                  kwhra 9 gm plpch tomato ketchup b w\n",
       "7997                         feyay 200 gm plbot soya sauc\n",
       "7998            xgqac 15 gm cdbox papaya massag cream b w\n",
       "7999           qaegd 200 gm plpch deterg powder clr guard\n",
       "Name: Product Description, Length: 8000, dtype: object"
      ]
     },
     "execution_count": 11,
     "metadata": {},
     "output_type": "execute_result"
    }
   ],
   "source": [
    "words_train"
   ]
  },
  {
   "cell_type": "markdown",
   "metadata": {},
   "source": [
    "# Cosine Distance"
   ]
  },
  {
   "cell_type": "code",
   "execution_count": 12,
   "metadata": {},
   "outputs": [],
   "source": [
    "cosine = Cosine(5)"
   ]
  },
  {
   "cell_type": "code",
   "execution_count": 13,
   "metadata": {},
   "outputs": [],
   "source": [
    "words_cosine = words_train.apply(lambda s: cosine.get_profile(s)) "
   ]
  },
  {
   "cell_type": "code",
   "execution_count": 14,
   "metadata": {},
   "outputs": [
    {
     "data": {
      "text/plain": [
       "0       {'kkrwg': 1, 'krwg2': 1, 'rwg20': 1, 'wg200': ...\n",
       "1       {'eeotr': 1, 'eotr9': 1, 'otr98': 1, 'tr98g': ...\n",
       "2       {'xthvf': 1, 'thvf2': 1, 'hvf20': 1, 'vf200': ...\n",
       "3       {'atyix': 1, 'tyixs': 1, 'yixsa': 1, 'ixsan': ...\n",
       "4       {'fbimg': 1, 'bimg5': 1, 'img50': 1, 'mg500': ...\n",
       "                              ...                        \n",
       "7995    {'keedw': 1, 'eedw3': 1, 'edw30': 1, 'dw30m': ...\n",
       "7996    {'kwhra': 1, 'whra9': 1, 'hra9g': 1, 'ra9gm': ...\n",
       "7997    {'feyay': 1, 'eyay2': 1, 'yay20': 1, 'ay200': ...\n",
       "7998    {'xgqac': 1, 'gqac1': 1, 'qac15': 1, 'ac15g': ...\n",
       "7999    {'qaegd': 1, 'aegd2': 1, 'egd20': 1, 'gd200': ...\n",
       "Name: Product Description, Length: 8000, dtype: object"
      ]
     },
     "execution_count": 14,
     "metadata": {},
     "output_type": "execute_result"
    }
   ],
   "source": [
    "words_cosine"
   ]
  },
  {
   "cell_type": "markdown",
   "metadata": {},
   "source": [
    "# Contextual Search"
   ]
  },
  {
   "cell_type": "code",
   "execution_count": 15,
   "metadata": {},
   "outputs": [],
   "source": [
    "def user_input(text, brand):\n",
    "    brand_boost = None\n",
    "    priceThreshold = None\n",
    "    words = description_to_words(text)\n",
    "    if(' less ' in words):\n",
    "        i = words.find(' less')\n",
    "        j = words.find('rs')\n",
    "        prices = re.findall(\"[0-9]+\", words[i:j])\n",
    "        words = words[:i]+words[j+2:]\n",
    "        if(prices): priceThreshold = prices[0]\n",
    "    if(brand):\n",
    "        brand_boost = brand\n",
    "    return words, brand_boost, priceThreshold"
   ]
  },
  {
   "cell_type": "code",
   "execution_count": 16,
   "metadata": {},
   "outputs": [],
   "source": [
    "def get_matched_indexes(text, brand):\n",
    "    y = user_input(text, brand)\n",
    "    cosine_y = cosine.get_profile(y[0])\n",
    "    cosine_distance = words_cosine.apply(lambda s: cosine.similarity_profiles(s, cosine_y))\n",
    "    indexes = cosine_distance.nlargest(5).index\n",
    "    temp_df = df.iloc[indexes, :]\n",
    "    if(y[1]):\n",
    "        temp_df = temp_df[temp_df['Brand Name']==y[1]]\n",
    "    if(y[2]):\n",
    "        temp_df = temp_df[temp_df['Final Price']<=int(y[2])]\n",
    "    return temp_df"
   ]
  },
  {
   "cell_type": "markdown",
   "metadata": {},
   "source": [
    "---\n",
    "# Results"
   ]
  },
  {
   "cell_type": "markdown",
   "metadata": {},
   "source": [
    "## 1. Search Term: Shampoos less than 300 rs"
   ]
  },
  {
   "cell_type": "code",
   "execution_count": 17,
   "metadata": {},
   "outputs": [
    {
     "data": {
      "text/html": [
       "<div>\n",
       "<style scoped>\n",
       "    .dataframe tbody tr th:only-of-type {\n",
       "        vertical-align: middle;\n",
       "    }\n",
       "\n",
       "    .dataframe tbody tr th {\n",
       "        vertical-align: top;\n",
       "    }\n",
       "\n",
       "    .dataframe thead th {\n",
       "        text-align: right;\n",
       "    }\n",
       "</style>\n",
       "<table border=\"1\" class=\"dataframe\">\n",
       "  <thead>\n",
       "    <tr style=\"text-align: right;\">\n",
       "      <th></th>\n",
       "      <th>Product Description</th>\n",
       "      <th>Brand Name</th>\n",
       "      <th>Grammage</th>\n",
       "      <th>Discount</th>\n",
       "      <th>Special Offer</th>\n",
       "      <th>Final Price</th>\n",
       "    </tr>\n",
       "  </thead>\n",
       "  <tbody>\n",
       "    <tr>\n",
       "      <th>0</th>\n",
       "      <td>KKRWG 200 GM PLPCH SUPER DETERGENT POWDER POWE...</td>\n",
       "      <td>KKRWG</td>\n",
       "      <td>200 GM</td>\n",
       "      <td>0.48</td>\n",
       "      <td>0.47</td>\n",
       "      <td>121</td>\n",
       "    </tr>\n",
       "    <tr>\n",
       "      <th>1</th>\n",
       "      <td>EEOTR 98 GM  PLTUB OPTI BLACK DAZZLING SHINE</td>\n",
       "      <td>EEOTR</td>\n",
       "      <td>98 GM</td>\n",
       "      <td>0.06</td>\n",
       "      <td>0.02</td>\n",
       "      <td>53</td>\n",
       "    </tr>\n",
       "    <tr>\n",
       "      <th>2</th>\n",
       "      <td>XTHVF 200 GM PLPCH WITH OPTICAL BRIGHTNER</td>\n",
       "      <td>XTHVF</td>\n",
       "      <td>200 GM</td>\n",
       "      <td>0.50</td>\n",
       "      <td>0.50</td>\n",
       "      <td>97</td>\n",
       "    </tr>\n",
       "  </tbody>\n",
       "</table>\n",
       "</div>"
      ],
      "text/plain": [
       "                                 Product Description Brand Name Grammage  \\\n",
       "0  KKRWG 200 GM PLPCH SUPER DETERGENT POWDER POWE...      KKRWG   200 GM   \n",
       "1       EEOTR 98 GM  PLTUB OPTI BLACK DAZZLING SHINE      EEOTR    98 GM   \n",
       "2          XTHVF 200 GM PLPCH WITH OPTICAL BRIGHTNER      XTHVF   200 GM   \n",
       "\n",
       "   Discount  Special Offer  Final Price  \n",
       "0      0.48           0.47          121  \n",
       "1      0.06           0.02           53  \n",
       "2      0.50           0.50           97  "
      ]
     },
     "execution_count": 17,
     "metadata": {},
     "output_type": "execute_result"
    }
   ],
   "source": [
    "get_matched_indexes('Shampoos less than 300 rs', None)"
   ]
  },
  {
   "cell_type": "markdown",
   "metadata": {},
   "source": [
    "## 2. Shampoos less than 300 rs; Brand Boost: Dove"
   ]
  },
  {
   "cell_type": "code",
   "execution_count": 18,
   "metadata": {},
   "outputs": [
    {
     "data": {
      "text/html": [
       "<div>\n",
       "<style scoped>\n",
       "    .dataframe tbody tr th:only-of-type {\n",
       "        vertical-align: middle;\n",
       "    }\n",
       "\n",
       "    .dataframe tbody tr th {\n",
       "        vertical-align: top;\n",
       "    }\n",
       "\n",
       "    .dataframe thead th {\n",
       "        text-align: right;\n",
       "    }\n",
       "</style>\n",
       "<table border=\"1\" class=\"dataframe\">\n",
       "  <thead>\n",
       "    <tr style=\"text-align: right;\">\n",
       "      <th></th>\n",
       "      <th>Product Description</th>\n",
       "      <th>Brand Name</th>\n",
       "      <th>Grammage</th>\n",
       "      <th>Discount</th>\n",
       "      <th>Special Offer</th>\n",
       "      <th>Final Price</th>\n",
       "    </tr>\n",
       "  </thead>\n",
       "  <tbody>\n",
       "  </tbody>\n",
       "</table>\n",
       "</div>"
      ],
      "text/plain": [
       "Empty DataFrame\n",
       "Columns: [Product Description, Brand Name, Grammage, Discount, Special Offer, Final Price]\n",
       "Index: []"
      ]
     },
     "execution_count": 18,
     "metadata": {},
     "output_type": "execute_result"
    }
   ],
   "source": [
    "get_matched_indexes('Shampoos less than 300 rs', 'Dove')"
   ]
  },
  {
   "cell_type": "markdown",
   "metadata": {},
   "source": [
    "## 3. Adidas "
   ]
  },
  {
   "cell_type": "code",
   "execution_count": 19,
   "metadata": {},
   "outputs": [
    {
     "data": {
      "text/html": [
       "<div>\n",
       "<style scoped>\n",
       "    .dataframe tbody tr th:only-of-type {\n",
       "        vertical-align: middle;\n",
       "    }\n",
       "\n",
       "    .dataframe tbody tr th {\n",
       "        vertical-align: top;\n",
       "    }\n",
       "\n",
       "    .dataframe thead th {\n",
       "        text-align: right;\n",
       "    }\n",
       "</style>\n",
       "<table border=\"1\" class=\"dataframe\">\n",
       "  <thead>\n",
       "    <tr style=\"text-align: right;\">\n",
       "      <th></th>\n",
       "      <th>Product Description</th>\n",
       "      <th>Brand Name</th>\n",
       "      <th>Grammage</th>\n",
       "      <th>Discount</th>\n",
       "      <th>Special Offer</th>\n",
       "      <th>Final Price</th>\n",
       "    </tr>\n",
       "  </thead>\n",
       "  <tbody>\n",
       "    <tr>\n",
       "      <th>0</th>\n",
       "      <td>KKRWG 200 GM PLPCH SUPER DETERGENT POWDER POWE...</td>\n",
       "      <td>KKRWG</td>\n",
       "      <td>200 GM</td>\n",
       "      <td>0.48</td>\n",
       "      <td>0.47</td>\n",
       "      <td>121</td>\n",
       "    </tr>\n",
       "    <tr>\n",
       "      <th>1</th>\n",
       "      <td>EEOTR 98 GM  PLTUB OPTI BLACK DAZZLING SHINE</td>\n",
       "      <td>EEOTR</td>\n",
       "      <td>98 GM</td>\n",
       "      <td>0.06</td>\n",
       "      <td>0.02</td>\n",
       "      <td>53</td>\n",
       "    </tr>\n",
       "    <tr>\n",
       "      <th>2</th>\n",
       "      <td>XTHVF 200 GM PLPCH WITH OPTICAL BRIGHTNER</td>\n",
       "      <td>XTHVF</td>\n",
       "      <td>200 GM</td>\n",
       "      <td>0.50</td>\n",
       "      <td>0.50</td>\n",
       "      <td>97</td>\n",
       "    </tr>\n",
       "    <tr>\n",
       "      <th>3</th>\n",
       "      <td>ATYIX Sandalum Agarbatti</td>\n",
       "      <td>ATYIX</td>\n",
       "      <td>50 gm\\n</td>\n",
       "      <td>0.31</td>\n",
       "      <td>0.08</td>\n",
       "      <td>564</td>\n",
       "    </tr>\n",
       "    <tr>\n",
       "      <th>4</th>\n",
       "      <td>FBIMG 500M PBT COCOABUTTER LOTN COCOABUTTER &amp; ...</td>\n",
       "      <td>FBIMG</td>\n",
       "      <td>NaN</td>\n",
       "      <td>0.01</td>\n",
       "      <td>0.04</td>\n",
       "      <td>712</td>\n",
       "    </tr>\n",
       "  </tbody>\n",
       "</table>\n",
       "</div>"
      ],
      "text/plain": [
       "                                 Product Description Brand Name Grammage  \\\n",
       "0  KKRWG 200 GM PLPCH SUPER DETERGENT POWDER POWE...      KKRWG   200 GM   \n",
       "1       EEOTR 98 GM  PLTUB OPTI BLACK DAZZLING SHINE      EEOTR    98 GM   \n",
       "2          XTHVF 200 GM PLPCH WITH OPTICAL BRIGHTNER      XTHVF   200 GM   \n",
       "3                           ATYIX Sandalum Agarbatti      ATYIX  50 gm\\n   \n",
       "4  FBIMG 500M PBT COCOABUTTER LOTN COCOABUTTER & ...      FBIMG      NaN   \n",
       "\n",
       "   Discount  Special Offer  Final Price  \n",
       "0      0.48           0.47          121  \n",
       "1      0.06           0.02           53  \n",
       "2      0.50           0.50           97  \n",
       "3      0.31           0.08          564  \n",
       "4      0.01           0.04          712  "
      ]
     },
     "execution_count": 19,
     "metadata": {},
     "output_type": "execute_result"
    }
   ],
   "source": [
    "get_matched_indexes('Adidas', None)"
   ]
  },
  {
   "cell_type": "markdown",
   "metadata": {},
   "source": [
    "## 4. Biscuits"
   ]
  },
  {
   "cell_type": "code",
   "execution_count": 20,
   "metadata": {},
   "outputs": [
    {
     "data": {
      "text/html": [
       "<div>\n",
       "<style scoped>\n",
       "    .dataframe tbody tr th:only-of-type {\n",
       "        vertical-align: middle;\n",
       "    }\n",
       "\n",
       "    .dataframe tbody tr th {\n",
       "        vertical-align: top;\n",
       "    }\n",
       "\n",
       "    .dataframe thead th {\n",
       "        text-align: right;\n",
       "    }\n",
       "</style>\n",
       "<table border=\"1\" class=\"dataframe\">\n",
       "  <thead>\n",
       "    <tr style=\"text-align: right;\">\n",
       "      <th></th>\n",
       "      <th>Product Description</th>\n",
       "      <th>Brand Name</th>\n",
       "      <th>Grammage</th>\n",
       "      <th>Discount</th>\n",
       "      <th>Special Offer</th>\n",
       "      <th>Final Price</th>\n",
       "    </tr>\n",
       "  </thead>\n",
       "  <tbody>\n",
       "    <tr>\n",
       "      <th>0</th>\n",
       "      <td>KKRWG 200 GM PLPCH SUPER DETERGENT POWDER POWE...</td>\n",
       "      <td>KKRWG</td>\n",
       "      <td>200 GM</td>\n",
       "      <td>0.48</td>\n",
       "      <td>0.47</td>\n",
       "      <td>121</td>\n",
       "    </tr>\n",
       "    <tr>\n",
       "      <th>1</th>\n",
       "      <td>EEOTR 98 GM  PLTUB OPTI BLACK DAZZLING SHINE</td>\n",
       "      <td>EEOTR</td>\n",
       "      <td>98 GM</td>\n",
       "      <td>0.06</td>\n",
       "      <td>0.02</td>\n",
       "      <td>53</td>\n",
       "    </tr>\n",
       "    <tr>\n",
       "      <th>2</th>\n",
       "      <td>XTHVF 200 GM PLPCH WITH OPTICAL BRIGHTNER</td>\n",
       "      <td>XTHVF</td>\n",
       "      <td>200 GM</td>\n",
       "      <td>0.50</td>\n",
       "      <td>0.50</td>\n",
       "      <td>97</td>\n",
       "    </tr>\n",
       "    <tr>\n",
       "      <th>3</th>\n",
       "      <td>ATYIX Sandalum Agarbatti</td>\n",
       "      <td>ATYIX</td>\n",
       "      <td>50 gm\\n</td>\n",
       "      <td>0.31</td>\n",
       "      <td>0.08</td>\n",
       "      <td>564</td>\n",
       "    </tr>\n",
       "    <tr>\n",
       "      <th>4</th>\n",
       "      <td>FBIMG 500M PBT COCOABUTTER LOTN COCOABUTTER &amp; ...</td>\n",
       "      <td>FBIMG</td>\n",
       "      <td>NaN</td>\n",
       "      <td>0.01</td>\n",
       "      <td>0.04</td>\n",
       "      <td>712</td>\n",
       "    </tr>\n",
       "  </tbody>\n",
       "</table>\n",
       "</div>"
      ],
      "text/plain": [
       "                                 Product Description Brand Name Grammage  \\\n",
       "0  KKRWG 200 GM PLPCH SUPER DETERGENT POWDER POWE...      KKRWG   200 GM   \n",
       "1       EEOTR 98 GM  PLTUB OPTI BLACK DAZZLING SHINE      EEOTR    98 GM   \n",
       "2          XTHVF 200 GM PLPCH WITH OPTICAL BRIGHTNER      XTHVF   200 GM   \n",
       "3                           ATYIX Sandalum Agarbatti      ATYIX  50 gm\\n   \n",
       "4  FBIMG 500M PBT COCOABUTTER LOTN COCOABUTTER & ...      FBIMG      NaN   \n",
       "\n",
       "   Discount  Special Offer  Final Price  \n",
       "0      0.48           0.47          121  \n",
       "1      0.06           0.02           53  \n",
       "2      0.50           0.50           97  \n",
       "3      0.31           0.08          564  \n",
       "4      0.01           0.04          712  "
      ]
     },
     "execution_count": 20,
     "metadata": {},
     "output_type": "execute_result"
    }
   ],
   "source": [
    "get_matched_indexes('Biscuits', None)"
   ]
  },
  {
   "cell_type": "markdown",
   "metadata": {},
   "source": [
    "## 4. Chocolate Biscuits"
   ]
  },
  {
   "cell_type": "code",
   "execution_count": 21,
   "metadata": {},
   "outputs": [
    {
     "data": {
      "text/html": [
       "<div>\n",
       "<style scoped>\n",
       "    .dataframe tbody tr th:only-of-type {\n",
       "        vertical-align: middle;\n",
       "    }\n",
       "\n",
       "    .dataframe tbody tr th {\n",
       "        vertical-align: top;\n",
       "    }\n",
       "\n",
       "    .dataframe thead th {\n",
       "        text-align: right;\n",
       "    }\n",
       "</style>\n",
       "<table border=\"1\" class=\"dataframe\">\n",
       "  <thead>\n",
       "    <tr style=\"text-align: right;\">\n",
       "      <th></th>\n",
       "      <th>Product Description</th>\n",
       "      <th>Brand Name</th>\n",
       "      <th>Grammage</th>\n",
       "      <th>Discount</th>\n",
       "      <th>Special Offer</th>\n",
       "      <th>Final Price</th>\n",
       "    </tr>\n",
       "  </thead>\n",
       "  <tbody>\n",
       "    <tr>\n",
       "      <th>5916</th>\n",
       "      <td>BRNWY Chocolate Veg Cakes</td>\n",
       "      <td>BRNWY</td>\n",
       "      <td>100 gm</td>\n",
       "      <td>0.16</td>\n",
       "      <td>0.17</td>\n",
       "      <td>63</td>\n",
       "    </tr>\n",
       "    <tr>\n",
       "      <th>3458</th>\n",
       "      <td>ERAXX Sliced Chocolate Cake</td>\n",
       "      <td>ERAXX</td>\n",
       "      <td>150 gm</td>\n",
       "      <td>0.46</td>\n",
       "      <td>0.06</td>\n",
       "      <td>37</td>\n",
       "    </tr>\n",
       "    <tr>\n",
       "      <th>5777</th>\n",
       "      <td>LXGIK Chocolate Chip Cookies</td>\n",
       "      <td>LXGIK</td>\n",
       "      <td>150 gm</td>\n",
       "      <td>0.02</td>\n",
       "      <td>0.25</td>\n",
       "      <td>679</td>\n",
       "    </tr>\n",
       "    <tr>\n",
       "      <th>4591</th>\n",
       "      <td>DXWWL Chocolate Almond Dates</td>\n",
       "      <td>DXWWL</td>\n",
       "      <td>100 gm</td>\n",
       "      <td>0.35</td>\n",
       "      <td>0.18</td>\n",
       "      <td>322</td>\n",
       "    </tr>\n",
       "    <tr>\n",
       "      <th>4940</th>\n",
       "      <td>LQRFB Hide &amp; Seek Chocolate Cr</td>\n",
       "      <td>LQRFB</td>\n",
       "      <td>100 gm</td>\n",
       "      <td>0.40</td>\n",
       "      <td>0.15</td>\n",
       "      <td>70</td>\n",
       "    </tr>\n",
       "  </tbody>\n",
       "</table>\n",
       "</div>"
      ],
      "text/plain": [
       "                 Product Description Brand Name Grammage  Discount  \\\n",
       "5916       BRNWY Chocolate Veg Cakes      BRNWY   100 gm      0.16   \n",
       "3458     ERAXX Sliced Chocolate Cake      ERAXX   150 gm      0.46   \n",
       "5777    LXGIK Chocolate Chip Cookies      LXGIK   150 gm      0.02   \n",
       "4591    DXWWL Chocolate Almond Dates      DXWWL   100 gm      0.35   \n",
       "4940  LQRFB Hide & Seek Chocolate Cr      LQRFB   100 gm      0.40   \n",
       "\n",
       "      Special Offer  Final Price  \n",
       "5916           0.17           63  \n",
       "3458           0.06           37  \n",
       "5777           0.25          679  \n",
       "4591           0.18          322  \n",
       "4940           0.15           70  "
      ]
     },
     "execution_count": 21,
     "metadata": {},
     "output_type": "execute_result"
    }
   ],
   "source": [
    "get_matched_indexes('Chocolate Biscuits', None)"
   ]
  },
  {
   "cell_type": "markdown",
   "metadata": {},
   "source": [
    "6. Facial Kit"
   ]
  },
  {
   "cell_type": "code",
   "execution_count": 22,
   "metadata": {},
   "outputs": [
    {
     "data": {
      "text/html": [
       "<div>\n",
       "<style scoped>\n",
       "    .dataframe tbody tr th:only-of-type {\n",
       "        vertical-align: middle;\n",
       "    }\n",
       "\n",
       "    .dataframe tbody tr th {\n",
       "        vertical-align: top;\n",
       "    }\n",
       "\n",
       "    .dataframe thead th {\n",
       "        text-align: right;\n",
       "    }\n",
       "</style>\n",
       "<table border=\"1\" class=\"dataframe\">\n",
       "  <thead>\n",
       "    <tr style=\"text-align: right;\">\n",
       "      <th></th>\n",
       "      <th>Product Description</th>\n",
       "      <th>Brand Name</th>\n",
       "      <th>Grammage</th>\n",
       "      <th>Discount</th>\n",
       "      <th>Special Offer</th>\n",
       "      <th>Final Price</th>\n",
       "    </tr>\n",
       "  </thead>\n",
       "  <tbody>\n",
       "    <tr>\n",
       "      <th>2078</th>\n",
       "      <td>FEBXH 5 GM CDBOX FACIAL PACK (B/W-</td>\n",
       "      <td>FEBXH</td>\n",
       "      <td>5 GM</td>\n",
       "      <td>0.35</td>\n",
       "      <td>0.40</td>\n",
       "      <td>127</td>\n",
       "    </tr>\n",
       "    <tr>\n",
       "      <th>3986</th>\n",
       "      <td>JDLKJ 40 GM PLCNT FACIAL CREAM</td>\n",
       "      <td>JDLKJ</td>\n",
       "      <td>40 GM</td>\n",
       "      <td>0.04</td>\n",
       "      <td>0.18</td>\n",
       "      <td>71</td>\n",
       "    </tr>\n",
       "    <tr>\n",
       "      <th>6262</th>\n",
       "      <td>UFRLP 500 GM PLCAN FACIAL CREAM</td>\n",
       "      <td>UFRLP</td>\n",
       "      <td>500 GM</td>\n",
       "      <td>0.20</td>\n",
       "      <td>0.49</td>\n",
       "      <td>386</td>\n",
       "    </tr>\n",
       "    <tr>\n",
       "      <th>6906</th>\n",
       "      <td>FEBXH 5 GM CDBOX FACIAL CREAM (B/W-</td>\n",
       "      <td>FEBXH</td>\n",
       "      <td>5 GM</td>\n",
       "      <td>0.34</td>\n",
       "      <td>0.18</td>\n",
       "      <td>84</td>\n",
       "    </tr>\n",
       "    <tr>\n",
       "      <th>976</th>\n",
       "      <td>HRUYT 100GM PLJAR GOLD FACIAL GEL</td>\n",
       "      <td>HRUYT</td>\n",
       "      <td>100GM</td>\n",
       "      <td>0.36</td>\n",
       "      <td>0.38</td>\n",
       "      <td>46</td>\n",
       "    </tr>\n",
       "  </tbody>\n",
       "</table>\n",
       "</div>"
      ],
      "text/plain": [
       "                      Product Description Brand Name Grammage  Discount  \\\n",
       "2078   FEBXH 5 GM CDBOX FACIAL PACK (B/W-      FEBXH     5 GM      0.35   \n",
       "3986       JDLKJ 40 GM PLCNT FACIAL CREAM      JDLKJ    40 GM      0.04   \n",
       "6262      UFRLP 500 GM PLCAN FACIAL CREAM      UFRLP   500 GM      0.20   \n",
       "6906  FEBXH 5 GM CDBOX FACIAL CREAM (B/W-      FEBXH     5 GM      0.34   \n",
       "976     HRUYT 100GM PLJAR GOLD FACIAL GEL      HRUYT    100GM      0.36   \n",
       "\n",
       "      Special Offer  Final Price  \n",
       "2078           0.40          127  \n",
       "3986           0.18           71  \n",
       "6262           0.49          386  \n",
       "6906           0.18           84  \n",
       "976            0.38           46  "
      ]
     },
     "execution_count": 22,
     "metadata": {},
     "output_type": "execute_result"
    }
   ],
   "source": [
    "get_matched_indexes('Facial Kit', None)"
   ]
  },
  {
   "cell_type": "markdown",
   "metadata": {},
   "source": [
    "## 7. Gold Massage less than 150 rs"
   ]
  },
  {
   "cell_type": "code",
   "execution_count": 23,
   "metadata": {},
   "outputs": [
    {
     "data": {
      "text/html": [
       "<div>\n",
       "<style scoped>\n",
       "    .dataframe tbody tr th:only-of-type {\n",
       "        vertical-align: middle;\n",
       "    }\n",
       "\n",
       "    .dataframe tbody tr th {\n",
       "        vertical-align: top;\n",
       "    }\n",
       "\n",
       "    .dataframe thead th {\n",
       "        text-align: right;\n",
       "    }\n",
       "</style>\n",
       "<table border=\"1\" class=\"dataframe\">\n",
       "  <thead>\n",
       "    <tr style=\"text-align: right;\">\n",
       "      <th></th>\n",
       "      <th>Product Description</th>\n",
       "      <th>Brand Name</th>\n",
       "      <th>Grammage</th>\n",
       "      <th>Discount</th>\n",
       "      <th>Special Offer</th>\n",
       "      <th>Final Price</th>\n",
       "    </tr>\n",
       "  </thead>\n",
       "  <tbody>\n",
       "    <tr>\n",
       "      <th>727</th>\n",
       "      <td>FEBXH 10 GM CDBOX GOLD MASSAGE GEL (B/W-</td>\n",
       "      <td>FEBXH</td>\n",
       "      <td>10 GM</td>\n",
       "      <td>0.42</td>\n",
       "      <td>0.09</td>\n",
       "      <td>8</td>\n",
       "    </tr>\n",
       "  </tbody>\n",
       "</table>\n",
       "</div>"
      ],
      "text/plain": [
       "                          Product Description Brand Name Grammage  Discount  \\\n",
       "727  FEBXH 10 GM CDBOX GOLD MASSAGE GEL (B/W-      FEBXH    10 GM      0.42   \n",
       "\n",
       "     Special Offer  Final Price  \n",
       "727           0.09            8  "
      ]
     },
     "execution_count": 23,
     "metadata": {},
     "output_type": "execute_result"
    }
   ],
   "source": [
    "get_matched_indexes('Gold Massage less than 150 rs', None)"
   ]
  },
  {
   "cell_type": "markdown",
   "metadata": {},
   "source": [
    "## 8. Gold Massage with more than 25% discount"
   ]
  },
  {
   "cell_type": "code",
   "execution_count": 24,
   "metadata": {},
   "outputs": [
    {
     "data": {
      "text/html": [
       "<div>\n",
       "<style scoped>\n",
       "    .dataframe tbody tr th:only-of-type {\n",
       "        vertical-align: middle;\n",
       "    }\n",
       "\n",
       "    .dataframe tbody tr th {\n",
       "        vertical-align: top;\n",
       "    }\n",
       "\n",
       "    .dataframe thead th {\n",
       "        text-align: right;\n",
       "    }\n",
       "</style>\n",
       "<table border=\"1\" class=\"dataframe\">\n",
       "  <thead>\n",
       "    <tr style=\"text-align: right;\">\n",
       "      <th></th>\n",
       "      <th>Product Description</th>\n",
       "      <th>Brand Name</th>\n",
       "      <th>Grammage</th>\n",
       "      <th>Discount</th>\n",
       "      <th>Special Offer</th>\n",
       "      <th>Final Price</th>\n",
       "    </tr>\n",
       "  </thead>\n",
       "  <tbody>\n",
       "    <tr>\n",
       "      <th>22</th>\n",
       "      <td>WCDMB 15 GM CDBOX GOLD MASSAGE GEL (B/W-</td>\n",
       "      <td>WCDMB</td>\n",
       "      <td>15 GM</td>\n",
       "      <td>0.21</td>\n",
       "      <td>0.50</td>\n",
       "      <td>228</td>\n",
       "    </tr>\n",
       "    <tr>\n",
       "      <th>318</th>\n",
       "      <td>DDWAI 60 GM CDBOX GOLD MASSAGE GEL (B/W-</td>\n",
       "      <td>DDWAI</td>\n",
       "      <td>60 GM</td>\n",
       "      <td>0.04</td>\n",
       "      <td>0.00</td>\n",
       "      <td>506</td>\n",
       "    </tr>\n",
       "    <tr>\n",
       "      <th>727</th>\n",
       "      <td>FEBXH 10 GM CDBOX GOLD MASSAGE GEL (B/W-</td>\n",
       "      <td>FEBXH</td>\n",
       "      <td>10 GM</td>\n",
       "      <td>0.42</td>\n",
       "      <td>0.09</td>\n",
       "      <td>8</td>\n",
       "    </tr>\n",
       "    <tr>\n",
       "      <th>859</th>\n",
       "      <td>PJRMF 25 GM CDBOX GOLD MASSAGE GEL (B/W-</td>\n",
       "      <td>PJRMF</td>\n",
       "      <td>25 GM</td>\n",
       "      <td>0.50</td>\n",
       "      <td>0.42</td>\n",
       "      <td>223</td>\n",
       "    </tr>\n",
       "    <tr>\n",
       "      <th>1048</th>\n",
       "      <td>IVOYT 12 GM CDBOX GOLD MASSAGE GEL (B/W-</td>\n",
       "      <td>IVOYT</td>\n",
       "      <td>12 GM</td>\n",
       "      <td>0.24</td>\n",
       "      <td>0.05</td>\n",
       "      <td>521</td>\n",
       "    </tr>\n",
       "  </tbody>\n",
       "</table>\n",
       "</div>"
      ],
      "text/plain": [
       "                           Product Description Brand Name Grammage  Discount  \\\n",
       "22    WCDMB 15 GM CDBOX GOLD MASSAGE GEL (B/W-      WCDMB    15 GM      0.21   \n",
       "318   DDWAI 60 GM CDBOX GOLD MASSAGE GEL (B/W-      DDWAI    60 GM      0.04   \n",
       "727   FEBXH 10 GM CDBOX GOLD MASSAGE GEL (B/W-      FEBXH    10 GM      0.42   \n",
       "859   PJRMF 25 GM CDBOX GOLD MASSAGE GEL (B/W-      PJRMF    25 GM      0.50   \n",
       "1048  IVOYT 12 GM CDBOX GOLD MASSAGE GEL (B/W-      IVOYT    12 GM      0.24   \n",
       "\n",
       "      Special Offer  Final Price  \n",
       "22             0.50          228  \n",
       "318            0.00          506  \n",
       "727            0.09            8  \n",
       "859            0.42          223  \n",
       "1048           0.05          521  "
      ]
     },
     "execution_count": 24,
     "metadata": {},
     "output_type": "execute_result"
    }
   ],
   "source": [
    "get_matched_indexes('Gold Massage with more than 25% discount', None)"
   ]
  },
  {
   "cell_type": "markdown",
   "metadata": {},
   "source": [
    "## 9. Gold Massage with more than 25% discount and less than 150 rs"
   ]
  },
  {
   "cell_type": "code",
   "execution_count": 25,
   "metadata": {},
   "outputs": [
    {
     "data": {
      "text/html": [
       "<div>\n",
       "<style scoped>\n",
       "    .dataframe tbody tr th:only-of-type {\n",
       "        vertical-align: middle;\n",
       "    }\n",
       "\n",
       "    .dataframe tbody tr th {\n",
       "        vertical-align: top;\n",
       "    }\n",
       "\n",
       "    .dataframe thead th {\n",
       "        text-align: right;\n",
       "    }\n",
       "</style>\n",
       "<table border=\"1\" class=\"dataframe\">\n",
       "  <thead>\n",
       "    <tr style=\"text-align: right;\">\n",
       "      <th></th>\n",
       "      <th>Product Description</th>\n",
       "      <th>Brand Name</th>\n",
       "      <th>Grammage</th>\n",
       "      <th>Discount</th>\n",
       "      <th>Special Offer</th>\n",
       "      <th>Final Price</th>\n",
       "    </tr>\n",
       "  </thead>\n",
       "  <tbody>\n",
       "    <tr>\n",
       "      <th>727</th>\n",
       "      <td>FEBXH 10 GM CDBOX GOLD MASSAGE GEL (B/W-</td>\n",
       "      <td>FEBXH</td>\n",
       "      <td>10 GM</td>\n",
       "      <td>0.42</td>\n",
       "      <td>0.09</td>\n",
       "      <td>8</td>\n",
       "    </tr>\n",
       "  </tbody>\n",
       "</table>\n",
       "</div>"
      ],
      "text/plain": [
       "                          Product Description Brand Name Grammage  Discount  \\\n",
       "727  FEBXH 10 GM CDBOX GOLD MASSAGE GEL (B/W-      FEBXH    10 GM      0.42   \n",
       "\n",
       "     Special Offer  Final Price  \n",
       "727           0.09            8  "
      ]
     },
     "execution_count": 25,
     "metadata": {},
     "output_type": "execute_result"
    }
   ],
   "source": [
    "get_matched_indexes('Gold Massage with more than 25% discount and less than 150 rs', None)"
   ]
  },
  {
   "cell_type": "markdown",
   "metadata": {},
   "source": [
    "---"
   ]
  }
 ],
 "metadata": {
  "kernelspec": {
   "display_name": "ai",
   "language": "python",
   "name": "ai"
  },
  "language_info": {
   "codemirror_mode": {
    "name": "ipython",
    "version": 3
   },
   "file_extension": ".py",
   "mimetype": "text/x-python",
   "name": "python",
   "nbconvert_exporter": "python",
   "pygments_lexer": "ipython3",
   "version": "3.6.9"
  }
 },
 "nbformat": 4,
 "nbformat_minor": 4
}
